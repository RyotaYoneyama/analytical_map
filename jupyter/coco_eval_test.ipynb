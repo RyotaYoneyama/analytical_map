{
 "cells": [
  {
   "cell_type": "code",
   "execution_count": 25,
   "id": "appreciated-nitrogen",
   "metadata": {},
   "outputs": [],
   "source": [
    "from pycocotools.coco import COCO\n",
    "from pycocotools.cocoeval import COCOeval\n",
    "import numpy as np\n",
    "import os\n",
    "import sys\n",
    "import io"
   ]
  },
  {
   "cell_type": "code",
   "execution_count": 26,
   "id": "animal-operations",
   "metadata": {},
   "outputs": [],
   "source": [
    "annType = 'bbox'\n",
    "path_to_coco_dir = \"/home/ryota/dl/tools/analytical_map/dog/coco\"\n",
    "path_to_annotation = os.path.join(path_to_coco_dir, 'gt.json')\n",
    "cocoGt = COCO(path_to_annotation)\n",
    "cocoInf = cocoGt.loadRes(os.path.join(path_to_coco_dir, 'dt.json'))\n",
    "\n"
   ]
  },
  {
   "cell_type": "code",
   "execution_count": 29,
   "id": "9f61d229",
   "metadata": {},
   "outputs": [],
   "source": [
    "cocoEval = COCOeval(cocoGt, cocoInf, annType)\n"
   ]
  },
  {
   "cell_type": "code",
   "execution_count": 24,
   "id": "6adafbba",
   "metadata": {},
   "outputs": [],
   "source": [
    "print('Params')\n",
    "print('N imgIds:',cocoEval.params.imgIds)\n",
    "print('K catIds:',cocoEval.params.catIds)\n",
    "print('T iouThrs:',cocoEval.params.iouThrs)\n",
    "print('R recThrs:',cocoEval.params.recThrs)\n",
    "print('A areaRng:',cocoEval.params.areaRng)\n",
    "print('M maxDets:',cocoEval.params.maxDets)\n",
    "print('useSegm, always falsh:',cocoEval.params.useSegm)\n",
    "print('useCats:',cocoEval.params.useCats)\n"
   ]
  },
  {
   "cell_type": "code",
   "execution_count": 31,
   "id": "3e4a323c",
   "metadata": {},
   "outputs": [],
   "source": []
  },
  {
   "cell_type": "code",
   "execution_count": 69,
   "id": "0bb01a27",
   "metadata": {},
   "outputs": [
    {
     "name": "stdout",
     "output_type": "stream",
     "text": [
      "Modify params\n"
     ]
    }
   ],
   "source": [
    "print('Modify params')\n",
    "cocoEval.params.maxDets = [100]\n",
    "cocoEval.params.iouThrs = [0.5]\n",
    "cocoEval.params.areaRng = [[0, 10000000000.0]]\n"
   ]
  },
  {
   "cell_type": "code",
   "execution_count": 17,
   "id": "f2eb1293",
   "metadata": {},
   "outputs": [
    {
     "data": {
      "text/plain": [
       "''"
      ]
     },
     "execution_count": 17,
     "metadata": {},
     "output_type": "execute_result"
    }
   ],
   "source": [
    "cocoEval.evaluate()\n",
    "cocoEval.accumulate()\n",
    "cocoEval.summarize()\n",
    "\n",
    "original_stdout = sys.stdout\n",
    "string_stdout = io.StringIO()\n",
    "sys.stdout = string_stdout\n",
    "sys.stdout = original_stdout\n",
    "\n",
    "mean_ap = cocoEval.stats[0].item()  # stats[0] records AP@[0.5:0.95]\n",
    "detail = string_stdout.getvalue()\n",
    "detail"
   ]
  },
  {
   "cell_type": "code",
   "execution_count": 18,
   "id": "ebf47797",
   "metadata": {},
   "outputs": [
    {
     "data": {
      "text/plain": [
       "array([ 0.73485149,  0.7990099 ,  0.71881188, -1.        , -1.        ,\n",
       "        0.73485149,  0.76666667,  0.76666667,  0.76666667, -1.        ,\n",
       "       -1.        ,  0.76666667])"
      ]
     },
     "execution_count": 18,
     "metadata": {},
     "output_type": "execute_result"
    }
   ],
   "source": [
    " cocoEval.stats"
   ]
  },
  {
   "cell_type": "code",
   "execution_count": null,
   "id": "37b8b090",
   "metadata": {},
   "outputs": [],
   "source": []
  }
 ],
 "metadata": {
  "kernelspec": {
   "display_name": "Python 3",
   "language": "python",
   "name": "python3"
  },
  "language_info": {
   "codemirror_mode": {
    "name": "ipython",
    "version": 3
   },
   "file_extension": ".py",
   "mimetype": "text/x-python",
   "name": "python",
   "nbconvert_exporter": "python",
   "pygments_lexer": "ipython3",
   "version": "3.8.10"
  }
 },
 "nbformat": 4,
 "nbformat_minor": 5
}
