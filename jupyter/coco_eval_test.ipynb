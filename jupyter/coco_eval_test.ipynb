{
 "cells": [
  {
   "cell_type": "code",
   "execution_count": 2,
   "id": "appreciated-nitrogen",
   "metadata": {},
   "outputs": [],
   "source": [
    "from pycocotools.coco import COCO\n",
    "from pycocotools.cocoeval import COCOeval\n",
    "import numpy as np\n",
    "import os\n",
    "import sys\n",
    "import io"
   ]
  },
  {
   "cell_type": "code",
   "execution_count": 3,
   "id": "animal-operations",
   "metadata": {},
   "outputs": [
    {
     "name": "stdout",
     "output_type": "stream",
     "text": [
      "loading annotations into memory...\n",
      "Done (t=0.00s)\n",
      "creating index...\n",
      "index created!\n",
      "Loading and preparing results...\n",
      "DONE (t=0.00s)\n",
      "creating index...\n",
      "index created!\n"
     ]
    }
   ],
   "source": [
    "annType = 'bbox'\n",
    "path_to_coco_dir = \"/home/ryota/dl/tools/analytical_map/dog/coco\"\n",
    "path_to_annotation = os.path.join(path_to_coco_dir, 'gt.json')\n",
    "cocoGt = COCO(path_to_annotation)\n",
    "cocoInf = cocoGt.loadRes(os.path.join(path_to_coco_dir, 'dt.json'))\n",
    "\n"
   ]
  },
  {
   "cell_type": "code",
   "execution_count": 4,
   "id": "9f61d229",
   "metadata": {},
   "outputs": [],
   "source": [
    "cocoEval = COCOeval(cocoGt, cocoInf, annType)\n"
   ]
  },
  {
   "cell_type": "code",
   "execution_count": 5,
   "id": "6adafbba",
   "metadata": {},
   "outputs": [
    {
     "name": "stdout",
     "output_type": "stream",
     "text": [
      "Params\n",
      "N imgIds: [1, 2, 3, 4, 5]\n",
      "K catIds: [1, 2]\n",
      "T iouThrs: [0.5  0.55 0.6  0.65 0.7  0.75 0.8  0.85 0.9  0.95]\n",
      "R recThrs: [0.   0.01 0.02 0.03 0.04 0.05 0.06 0.07 0.08 0.09 0.1  0.11 0.12 0.13\n",
      " 0.14 0.15 0.16 0.17 0.18 0.19 0.2  0.21 0.22 0.23 0.24 0.25 0.26 0.27\n",
      " 0.28 0.29 0.3  0.31 0.32 0.33 0.34 0.35 0.36 0.37 0.38 0.39 0.4  0.41\n",
      " 0.42 0.43 0.44 0.45 0.46 0.47 0.48 0.49 0.5  0.51 0.52 0.53 0.54 0.55\n",
      " 0.56 0.57 0.58 0.59 0.6  0.61 0.62 0.63 0.64 0.65 0.66 0.67 0.68 0.69\n",
      " 0.7  0.71 0.72 0.73 0.74 0.75 0.76 0.77 0.78 0.79 0.8  0.81 0.82 0.83\n",
      " 0.84 0.85 0.86 0.87 0.88 0.89 0.9  0.91 0.92 0.93 0.94 0.95 0.96 0.97\n",
      " 0.98 0.99 1.  ]\n",
      "A areaRng: [[0, 10000000000.0], [0, 1024], [1024, 9216], [9216, 10000000000.0]]\n",
      "M maxDets: [1, 10, 100]\n",
      "useSegm, always falsh: None\n",
      "useCats: 1\n"
     ]
    }
   ],
   "source": [
    "print('Params')\n",
    "print('N imgIds:',cocoEval.params.imgIds)\n",
    "print('K catIds:',cocoEval.params.catIds)\n",
    "print('T iouThrs:',cocoEval.params.iouThrs)\n",
    "print('R recThrs:',cocoEval.params.recThrs)\n",
    "print('A areaRng:',cocoEval.params.areaRng)\n",
    "print('M maxDets:',cocoEval.params.maxDets)\n",
    "print('useSegm, always falsh:',cocoEval.params.useSegm)\n",
    "print('useCats:',cocoEval.params.useCats)\n"
   ]
  },
  {
   "cell_type": "code",
   "execution_count": 36,
   "id": "0bb01a27",
   "metadata": {},
   "outputs": [],
   "source": [
    "print('Modify params')\n",
    "cocoEval.params.maxDets = [100]\n",
    "cocoEval.params.iouThrs = [0.5]\n",
    "cocoEval.params.areaRng = [[0, 10000000000.0]]\n"
   ]
  },
  {
   "cell_type": "code",
   "execution_count": 43,
   "id": "f2eb1293",
   "metadata": {},
   "outputs": [
    {
     "data": {
      "text/plain": [
       "' Average Precision  (AP) @[ IoU=0.50:0.95 | area=   all | maxDets=100 ] = 0.735\\n Average Precision  (AP) @[ IoU=0.50      | area=   all | maxDets=100 ] = 0.799\\n Average Precision  (AP) @[ IoU=0.75      | area=   all | maxDets=100 ] = 0.719\\n Average Precision  (AP) @[ IoU=0.50:0.95 | area= small | maxDets=100 ] = -1.000\\n Average Precision  (AP) @[ IoU=0.50:0.95 | area=medium | maxDets=100 ] = -1.000\\n Average Precision  (AP) @[ IoU=0.50:0.95 | area= large | maxDets=100 ] = 0.735\\n Average Recall     (AR) @[ IoU=0.50:0.95 | area=   all | maxDets=  1 ] = 0.767\\n Average Recall     (AR) @[ IoU=0.50:0.95 | area=   all | maxDets= 10 ] = 0.767\\n Average Recall     (AR) @[ IoU=0.50:0.95 | area=   all | maxDets=100 ] = 0.767\\n Average Recall     (AR) @[ IoU=0.50:0.95 | area= small | maxDets=100 ] = -1.000\\n Average Recall     (AR) @[ IoU=0.50:0.95 | area=medium | maxDets=100 ] = -1.000\\n Average Recall     (AR) @[ IoU=0.50:0.95 | area= large | maxDets=100 ] = 0.767\\n'"
      ]
     },
     "execution_count": 43,
     "metadata": {},
     "output_type": "execute_result"
    }
   ],
   "source": [
    "cocoEval.evaluate()\n",
    "cocoEval.accumulate()\n",
    "\n",
    "original_stdout = sys.stdout\n",
    "string_stdout = io.StringIO()\n",
    "sys.stdout = string_stdout\n",
    "cocoEval.summarize()\n",
    "sys.stdout = original_stdout\n",
    "\n",
    "mean_ap = cocoEval.stats[0].item()  # stats[0] records AP@[0.5:0.95]\n",
    "detail = string_stdout.getvalue()\n",
    "detail"
   ]
  },
  {
   "cell_type": "code",
   "execution_count": 44,
   "id": "ebf47797",
   "metadata": {},
   "outputs": [],
   "source": []
  },
  {
   "cell_type": "markdown",
   "id": "5f65a4b3",
   "metadata": {},
   "source": []
  },
  {
   "cell_type": "code",
   "execution_count": null,
   "id": "37b8b090",
   "metadata": {},
   "outputs": [],
   "source": []
  }
 ],
 "metadata": {
  "kernelspec": {
   "display_name": "Python 3",
   "language": "python",
   "name": "python3"
  },
  "language_info": {
   "codemirror_mode": {
    "name": "ipython",
    "version": 3
   },
   "file_extension": ".py",
   "mimetype": "text/x-python",
   "name": "python",
   "nbconvert_exporter": "python",
   "pygments_lexer": "ipython3",
   "version": "3.8.10"
  }
 },
 "nbformat": 4,
 "nbformat_minor": 5
}
