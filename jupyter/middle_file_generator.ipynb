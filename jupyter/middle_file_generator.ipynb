{
 "cells": [
  {
   "cell_type": "code",
   "execution_count": 5,
   "metadata": {},
   "outputs": [],
   "source": [
    "import json\n",
    "import collections as cl\n",
    "from pycocotools.coco import COCO\n",
    "from pycocotools.cocoeval import COCOeval\n",
    "import numpy as np\n",
    "import os\n",
    "import sys\n",
    "import io\n",
    "import matplotlib.pyplot as plt"
   ]
  },
  {
   "cell_type": "code",
   "execution_count": 169,
   "metadata": {},
   "outputs": [],
   "source": [
    "class COCOevalDet(COCO):\n",
    "    def __init__(self, cocoGt_file=None, cocoDt_file=None, eval_file=None):\n",
    "        super().__init__()\n",
    "\n",
    "        assert self.initialize(cocoGt_file, cocoDt_file, eval_file)\n",
    "        self.type =  ['Match', 'LC', 'DC', 'Cls', 'Loc', 'Bkg', 'Miss']\n",
    "        self.type_order =  {'Match':0, 'LC':1, 'DC':1, 'Cls':2, 'Loc':3, 'Bkg':4, 'Miss':4, None:5}\n",
    "        # self.recall_points = np.arange(0, 1.1, 0.1)\n",
    "        self.recall_points = np.arange(0, 1.01, 0.1)\n",
    "        self.cats = self.cocoGt.loadCats(self.cocoGt.getCatIds())\n",
    "\n",
    "\n",
    "\n",
    "    def initialize(self, cocoGt_file, cocoDt_file, eval_file):\n",
    "        \n",
    "        self.iou_thresh = 0.5\n",
    "        self.iou_loc = 0.2\n",
    "        self.is_evaluated = False\n",
    "\n",
    "        if cocoGt_file is not None and cocoDt_file is not None:\n",
    "          if os.path.isfile(cocoGt_file) and os.path.isfile(cocoDt_file):\n",
    "            self.cocoGt = COCO(cocoGt_file)\n",
    "            self.cocoDt = self.cocoGt.loadRes(cocoDt_file)\n",
    "            self.out_dir = os.path.dirname(cocoGt_file)\n",
    "\n",
    "            eval_dict = {'eval': {'count': None, 'type': None, 'corr_id': None, 'iou': None}}\n",
    "            _gts = self.cocoGt.loadAnns(self.cocoGt.getAnnIds())\n",
    "            _dts = self.cocoDt.loadAnns(self.cocoDt.getAnnIds())\n",
    "            _ = [g.update(eval_dict) for g in _gts]\n",
    "            _ = [d.update(eval_dict) for d in _dts]\n",
    "            return True\n",
    "\n",
    "        elif eval_file is not None:\n",
    "          if os.path.isfile(eval_file):\n",
    "            self.cocoGt = COCO(eval_file)\n",
    "            _cocoDt = json.load(open(eval_file))['detections']\n",
    "            self.cocoDt = self.cocoGt.loadRes(_cocoDt)\n",
    "            self.is_evaluated = True\n",
    "            self.out_dir = os.path.dirname(eval_file)\n",
    "          return True\n",
    "        else:\n",
    "          print('ERROR:Could not read files')\n",
    "          return False\n",
    "      \n",
    "    def eval(self):\n",
    "      if self.is_evaluated == False:\n",
    "        img_ids = self.cocoGt.getImgIds()\n",
    "        for img_id in img_ids:\n",
    "          self.eval_per_img(img_id)\n",
    "        self.is_evaluated = True\n",
    "      else:\n",
    "        print(\"Already evaluated\")\n",
    "\n",
    "    def eval_per_img(self, imgId):\n",
    "\n",
    "        Id_gts = self.cocoGt.getAnnIds(imgIds=imgId, iscrowd=None)\n",
    "        Id_dts = self.cocoDt.getAnnIds(imgIds=imgId, iscrowd=None)\n",
    "\n",
    "        gts = self.cocoGt.loadAnns(Id_gts)\n",
    "        dts = self.cocoDt.loadAnns(Id_dts)\n",
    "        \n",
    "        # Sort detections by score\n",
    "        inds = np.argsort([-d['score'] for d in dts], kind='mergesort')\n",
    "        dts = [dts[i] for i in inds]\n",
    "\n",
    "        exist_gts = bool(gts)\n",
    "        exist_dts = bool(dts)\n",
    "\n",
    "\n",
    "        if exist_gts and exist_dts:\n",
    "           \n",
    "          for gt in gts:\n",
    "            bb_gt = np.array(gt[\"bbox\"])\n",
    "            bb_dts = np.array([dt[\"bbox\"] for dt in dts])\n",
    "\n",
    "            iou = self.iou_per_single_gt(bb_gt, bb_dts)\n",
    "            \n",
    "            TP_all_cat_boolean = iou >self.iou_thresh\n",
    "            TP_loc_all_cat_boolean = iou >self.iou_loc\n",
    "\n",
    "            cat_gt = np.array(gt['category_id'])\n",
    "            cat_dts = np.array([dt['category_id'] for dt in dts])\n",
    "            cat_match_boolean = cat_dts == cat_gt\n",
    "\n",
    "            TP_boolean = cat_match_boolean & TP_all_cat_boolean\n",
    "            TP_loc_boolean = cat_match_boolean & TP_loc_all_cat_boolean\n",
    "            TP_cat_boolean = cat_match_boolean &  False*TP_boolean\n",
    "\n",
    "            # Count TP, double count and  less counts(LC)\n",
    "            id_dets_match = np.where(TP_boolean==True)[0]\n",
    "            for id_det in id_dets_match:\n",
    "              dt = dts[id_det]\n",
    "              ## TP if gt is not assinged and dt is not TP-\n",
    "              if gt['eval']['count'] != \"TP\" and dt['eval']['count'] != \"TP\":\n",
    "                dt['eval'] = {\"count\":\"TP\", \"type\":\"Match\", \"corr_id\": gt['id'], 'iou':iou[id_det]}\n",
    "                gt['eval'] = {\"count\":\"TP\", \"type\":\"Match\",\"corr_id\": dt['id'],'iou':iou[id_det]}\n",
    "                continue\n",
    "              # Double count if gt_assigned is assigned\n",
    "              elif gt['eval']['count'] == \"TP\" and dt['eval']['count'] != \"TP\":\n",
    "                dt['eval'] = {\"count\":\"FP\", \"type\":\"DC\", \"corr_id\": gt['id'],'iou':iou[id_det]}\n",
    "              ## Less count(LC) if all detections are already assigned \n",
    "              if id_det == id_dets_match[-1]:\n",
    "                if gt['eval']['count'] != \"TP\" and dt['eval']['count'] == \"TP\":\n",
    "                  gt['eval'] = {\"count\":\"FN\", \"type\":\"LC\",\"corr_id\": dts[id_dets_match[0]]['id'],'iou':iou[id_det]}\n",
    "              \n",
    "            # Count catgory mistakes\n",
    "            id_dets_all = np.where(TP_cat_boolean==True)[0]\n",
    "            for id_det in id_dets_all:\n",
    "              dt = dts[id_det]\n",
    "              if self.type_order[dt['eval']['type']] > self.type_order['Cls']:\n",
    "                dt['eval'] = {\"count\":\"FP\", \"type\":\"Cls\", \"corr_id\": gt['id'],'iou':iou[id_det]}\n",
    "              if self.type_order[gt['eval']['type']] > self.type_order['Cls']:\n",
    "                gt['eval'] = {\"count\":\"FN\", \"type\":\"Cls\",\"corr_id\": dt['id'],'iou':iou[id_det]}\n",
    "\n",
    "            # Count location error\n",
    "            id_dets_loc = np.where(TP_loc_boolean==True)[0]\n",
    "            for id_det in id_dets_loc:\n",
    "              dt = dts[id_det]\n",
    "              if self.type_order[dt['eval']['type']] > self.type_order['Loc']:\n",
    "                dt['eval'] = {\"count\":\"FP\", \"type\":\"Loc\", \"corr_id\": gt['id'],'iou':iou[id_det]}\n",
    "              if self.type_order[gt['eval']['type']] > self.type_order['Loc']:\n",
    "                gt['eval'] = {\"count\":\"FN\", \"type\":\"Loc\",\"corr_id\": dt['id'],'iou':iou[id_det]}\n",
    "\n",
    "            # No match\n",
    "            if  self.type_order[gt['eval']['type']] > self.type_order[None]:\n",
    "              gt['eval'] = {\"count\":\"FN\", \"type\":\"Miss\",\"corr_id\":None,'iou':None}\n",
    "\n",
    "          # Count Bkg, if detections are not assigned yet\n",
    "          for dt in dts:\n",
    "            if  self.type_order[dt['eval']['type']] > self.type_order[None]:\n",
    "              dt['eval'] = {\"count\":\"FP\", \"type\":\"Bkg\", \"corr_id\": None,'iou':None}\n",
    "\n",
    "        else:\n",
    "          if exist_gts and not exist_dts:\n",
    "            for gt in gts:\n",
    "                gt['eval'] = {\"count\":\"FN\", \"type\":\"Miss\",\"corr_id\": None,'iou':None}\n",
    "        \n",
    "          elif not exist_gts and exist_dts:\n",
    "            for dt in dts:\n",
    "                dt['eval'] = {\"count\":\"FP\", \"type\":\"Bkg\",\"corr_id\": None,'iou':None}\n",
    "\n",
    "    def iou_per_single_gt(self, gt_bb, dt_bbs):\n",
    "\n",
    "      gt_area = (gt_bb[2]  + 1) \\\n",
    "               * (gt_bb[3]  + 1)\n",
    "\n",
    "      dt_areas = (dt_bbs[:,2]  + 1) \\\n",
    "               * (dt_bbs[:,3]  + 1)\n",
    "\n",
    "      abx_min = np.maximum(gt_bb[0], dt_bbs[:,0]) # xmin\n",
    "      aby_min = np.maximum(gt_bb[1], dt_bbs[:,1]) # ymin\n",
    "      abx_max = np.minimum(gt_bb[0] + gt_bb[2], dt_bbs[:,0] + dt_bbs[:,2]) # xmax\n",
    "      aby_max = np.minimum(gt_bb[1] + gt_bb[3], dt_bbs[:,1] + dt_bbs[:,3]) # ymax\n",
    "\n",
    "      w = np.maximum(0, abx_max - abx_min + 1)\n",
    "      h = np.maximum(0, aby_max - aby_min + 1)\n",
    "      intersect = w*h\n",
    "\n",
    "      iou = intersect / (gt_area + dt_areas - intersect)\n",
    "      return iou\n",
    "\n",
    "    def dump_json(self, output_file):\n",
    "      \n",
    "        def images(cocoGt):\n",
    "            img_ids = cocoGt.getImgIds()\n",
    "            return cocoGt.loadImgs(ids=img_ids)\n",
    "\n",
    "        def categories(cocoGt):\n",
    "          return cocoGt.loadCats(cocoGt.getCatIds())\n",
    "        \n",
    "        def annotations(cocoGt):\n",
    "            annIds = cocoGt.getAnnIds()\n",
    "            return cocoGt.loadAnns(ids=annIds)\n",
    "\n",
    "        def detections(cocoDt):\n",
    "            annIds = cocoDt.getAnnIds()\n",
    "            return cocoDt.loadAnns(ids=annIds)\n",
    "\n",
    "        query_list = [\"licenses\", \"info\", \"categories\", \"images\", \"annotations\", \"detections\",\"segment_info\"]\n",
    "        js = cl.OrderedDict()\n",
    "        for i in range(len(query_list)):\n",
    "          tmp = \"\"\n",
    "          if query_list[i]== \"categories\":\n",
    "            tmp = categories(self.cocoGt) \n",
    "          if query_list[i]== \"images\":\n",
    "            tmp = images(self.cocoGt) \n",
    "          if query_list[i]== \"annotations\":\n",
    "            tmp = annotations(self.cocoGt) \n",
    "          if query_list[i]== \"detections\":\n",
    "            tmp = detections(self.cocoDt) \n",
    "          # save it\n",
    "          js[query_list[i]] = tmp\n",
    "        # write\n",
    "        fw = open(output_file,'w')\n",
    "        json.dump(js,fw,indent=2)\n",
    "\n",
    "\n",
    "    def precision_analyze(self):\n",
    "      for cat_id in self.cocoGt.getCatIds():\n",
    "\n",
    "        dt_ids = self.cocoDt.getAnnIds(catIds=cat_id)\n",
    "        dts = self.cocoDt.loadAnns(ids=dt_ids)\n",
    "        counts = {'Loc':0, 'DC':0, 'LC':0, 'Cls':0, 'Bkg':0, 'Miss':0}\n",
    "        num_dts = len(dts)\n",
    "\n",
    "        for type in self.type:\n",
    "           _count = len([dt for dt in dts if dt['eval']['count'] == 'type'])\n",
    "           counts[type] = _count\n",
    "\n",
    "        counts_v = [c for c in counts.values()]\n",
    "        counts_k = [k for k in counts.keys()]\n",
    "\n",
    "        catetroy_name = self.cats[cat_id-1]['name']\n",
    "        fig_pie, ax_pie = plt.subplots()\n",
    "        ax_pie.set_title(catetroy_name + \"_Precision_ratio\")\n",
    "        ax_pie.pie(counts_v, labels=counts_k, autopct=\"%1.1f %%\")\n",
    "        fig_pie.savefig(os.path.join(self.out_dir, catetroy_name + \"_precision_ratio.png\")) \n",
    "\n",
    "        \n",
    "\n",
    "\n",
    "\n",
    "\n",
    "    def accumulate(self):\n",
    "      for cat_id in self.cocoGt.getCatIds():\n",
    "        dt_ids = self.cocoDt.getAnnIds(catIds=cat_id)\n",
    "        gt_ids = self.cocoGt.getAnnIds(catIds=cat_id)\n",
    "        dts = self.cocoDt.loadAnns(ids=dt_ids)\n",
    "        gts = self.cocoGt.loadAnns(ids=gt_ids)\n",
    "        num_gts = len(gts)\n",
    "        inds = np.argsort([-d['score'] for d in dts], kind='mergesort')\n",
    "        dts = [dts[i] for i in inds]\n",
    "      \n",
    "        x_conf =[1]\n",
    "        y_pres =[1]\n",
    "        y_recall =[0]\n",
    "        count_TP = 0\n",
    "        # FPs = {'Loc':0, 'DC':0, 'LC':0, 'Cls':0, 'Bkg':0, 'Miss':0}\n",
    "        for id, dt in enumerate(dts):\n",
    "            x_conf.append(dt['score'])\n",
    "            if dt['eval']['count'] == 'TP':\n",
    "                count_TP += 1\n",
    "            # else:\n",
    "            #   for k in FPs.keys():\n",
    "            #       if k == dt['eval']['type']:\n",
    "            #         FPs[k]+=1\n",
    "\n",
    "            # \n",
    "            y_pres.append(count_TP / (id +1))\n",
    "            y_recall.append(count_TP / num_gts)\n",
    "        \n",
    "\n",
    "        x_conf.append(0)\n",
    "        y_pres.append(0)\n",
    "        y_recall.append(1)\n",
    "\n",
    "        y_pres_ = np.zeros(self.recall_points.shape)\n",
    "        ids = np.searchsorted(y_recall, self.recall_points, side='left')\n",
    "\n",
    "        for i, id in enumerate(ids):\n",
    "          y_pres_[i] = y_pres[id]\n",
    "        y_pres_ = np.maximum.accumulate(y_pres_[::-1])[::-1]\n",
    "\n",
    "\n",
    "        fig_conf, ax_conf = plt.subplots()\n",
    "        ax_conf.plot(x_conf, y_pres, color='red')\n",
    "        ax_conf.plot(x_conf, y_recall,color='green')\n",
    "        ax_conf.legend([\"Precision\", \"Recall\"])\n",
    "        ax_conf.set_xlabel('confidence')\n",
    "        fig_conf.savefig(os.path.join(self.out_dir,  \"pr_conf.png\")) \n",
    "\n",
    "        fig_pr, ax_pr = plt.subplots()\n",
    "\n",
    "        ax_pr.plot(y_recall, y_pres, marker='.')\n",
    "        ax_pr.plot(self.recall_points, y_pres_, marker='x', linewidth=0)\n",
    "        ax_pr.set_xlabel('Precision')\n",
    "        ax_pr.set_xlabel('Recall')\n",
    "        ax_pr.legend([\"PR_raw\", \"PR_inter\"])\n",
    "\n",
    "        fig_pr.savefig(os.path.join(self.out_dir,  \"pr_curve.png\")) \n",
    "        ap = 0\n",
    "        for i in range(1, len(y_pres_)):\n",
    "          ap += y_pres_[i]*(self.recall_points[i] - self.recall_points[i-1])\n",
    "        print(ap)\n",
    "\n",
    "\n"
   ]
  },
  {
   "cell_type": "code",
   "execution_count": 170,
   "metadata": {},
   "outputs": [
    {
     "name": "stdout",
     "output_type": "stream",
     "text": [
      "loading annotations into memory...\n",
      "Done (t=0.00s)\n",
      "creating index...\n",
      "index created!\n",
      "Loading and preparing results...\n",
      "DONE (t=0.00s)\n",
      "creating index...\n",
      "index created!\n"
     ]
    }
   ],
   "source": [
    "path_to_coco_dir = \"/home/ryota/nn_git/evaluation/map/dog/coco\"\n",
    "path_to_gt = os.path.join(path_to_coco_dir, 'gt.json')\n",
    "path_to_dt = os.path.join(path_to_coco_dir, 'dt.json')\n",
    "\n",
    "cocoEvalDet = COCOevalDet(path_to_gt, path_to_dt)\n",
    "cocoEvalDet.eval()\n",
    "cocoEvalDet.dump_json(os.path.join(path_to_coco_dir, 'test.json'))\n",
    "\n"
   ]
  },
  {
   "cell_type": "code",
   "execution_count": 171,
   "metadata": {},
   "outputs": [
    {
     "name": "stderr",
     "output_type": "stream",
     "text": [
      "<ipython-input-169-17a30ef910bb>:216: MatplotlibDeprecationWarning: normalize=None does not normalize if the sum is less than 1 but this behavior is deprecated since 3.3 until two minor releases later. After the deprecation period the default value will be normalize=True. To prevent normalization pass normalize=False \n",
      "  ax_pie.pie(counts_v, labels=counts_k, autopct=\"%1.1f %%\")\n"
     ]
    },
    {
     "ename": "AttributeError",
     "evalue": "'Figure' object has no attribute 'plot'",
     "output_type": "error",
     "traceback": [
      "\u001b[0;31m---------------------------------------------------------------------------\u001b[0m",
      "\u001b[0;31mAttributeError\u001b[0m                            Traceback (most recent call last)",
      "\u001b[0;32m<ipython-input-171-599bf00b2643>\u001b[0m in \u001b[0;36m<module>\u001b[0;34m\u001b[0m\n\u001b[0;32m----> 1\u001b[0;31m \u001b[0mcocoEvalDet\u001b[0m\u001b[0;34m.\u001b[0m\u001b[0mprecision_analyze\u001b[0m\u001b[0;34m(\u001b[0m\u001b[0;34m)\u001b[0m\u001b[0;34m\u001b[0m\u001b[0;34m\u001b[0m\u001b[0m\n\u001b[0m",
      "\u001b[0;32m<ipython-input-169-17a30ef910bb>\u001b[0m in \u001b[0;36mprecision_analyze\u001b[0;34m(self)\u001b[0m\n\u001b[1;32m    215\u001b[0m         \u001b[0max_pie\u001b[0m\u001b[0;34m.\u001b[0m\u001b[0mset_title\u001b[0m\u001b[0;34m(\u001b[0m\u001b[0mcatetroy_name\u001b[0m \u001b[0;34m+\u001b[0m \u001b[0;34m\"_Precision_ratio\"\u001b[0m\u001b[0;34m)\u001b[0m\u001b[0;34m\u001b[0m\u001b[0;34m\u001b[0m\u001b[0m\n\u001b[1;32m    216\u001b[0m         \u001b[0max_pie\u001b[0m\u001b[0;34m.\u001b[0m\u001b[0mpie\u001b[0m\u001b[0;34m(\u001b[0m\u001b[0mcounts_v\u001b[0m\u001b[0;34m,\u001b[0m \u001b[0mlabels\u001b[0m\u001b[0;34m=\u001b[0m\u001b[0mcounts_k\u001b[0m\u001b[0;34m,\u001b[0m \u001b[0mautopct\u001b[0m\u001b[0;34m=\u001b[0m\u001b[0;34m\"%1.1f %%\"\u001b[0m\u001b[0;34m)\u001b[0m\u001b[0;34m\u001b[0m\u001b[0;34m\u001b[0m\u001b[0m\n\u001b[0;32m--> 217\u001b[0;31m         \u001b[0mfig_pie\u001b[0m\u001b[0;34m.\u001b[0m\u001b[0mplot\u001b[0m\u001b[0;34m(\u001b[0m\u001b[0mos\u001b[0m\u001b[0;34m.\u001b[0m\u001b[0mpath\u001b[0m\u001b[0;34m.\u001b[0m\u001b[0mjoin\u001b[0m\u001b[0;34m(\u001b[0m\u001b[0mself\u001b[0m\u001b[0;34m.\u001b[0m\u001b[0mout_dir\u001b[0m\u001b[0;34m,\u001b[0m \u001b[0mcatetroy_name\u001b[0m \u001b[0;34m+\u001b[0m \u001b[0;34m\"_precision_ratio.png\"\u001b[0m\u001b[0;34m)\u001b[0m\u001b[0;34m)\u001b[0m\u001b[0;34m\u001b[0m\u001b[0;34m\u001b[0m\u001b[0m\n\u001b[0m\u001b[1;32m    218\u001b[0m \u001b[0;34m\u001b[0m\u001b[0m\n\u001b[1;32m    219\u001b[0m \u001b[0;34m\u001b[0m\u001b[0m\n",
      "\u001b[0;31mAttributeError\u001b[0m: 'Figure' object has no attribute 'plot'"
     ]
    },
    {
     "data": {
      "image/png": "[encoded data removed]",
      "text/plain": [
       "<Figure size 432x288 with 1 Axes>"
      ]
     },
     "metadata": {},
     "output_type": "display_data"
    }
   ],
   "source": [
    "cocoEvalDet.precision_analyze()"
   ]
  },
  {
   "cell_type": "code",
   "execution_count": 151,
   "metadata": {},
   "outputs": [
    {
     "name": "stdout",
     "output_type": "stream",
     "text": [
      "[{'id': 1, 'name': 'dog', 'supercategory': ''}, {'id': 2, 'name': 'person', 'supercategory': ''}]\n",
      "0.54\n",
      "1.0\n"
     ]
    },
    {
     "data": {
      "image/png": "[encoded data removed]",
      "text/plain": [
       "<Figure size 432x288 with 1 Axes>"
      ]
     },
     "metadata": {
      "needs_background": "light"
     },
     "output_type": "display_data"
    },
    {
     "data": {
      "image/png": "[encoded data removed]",
      "text/plain": [
       "<Figure size 432x288 with 1 Axes>"
      ]
     },
     "metadata": {
      "needs_background": "light"
     },
     "output_type": "display_data"
    },
    {
     "data": {
      "image/png": "[encoded data removed]",
      "text/plain": [
       "<Figure size 432x288 with 1 Axes>"
      ]
     },
     "metadata": {
      "needs_background": "light"
     },
     "output_type": "display_data"
    },
    {
     "data": {
      "image/png": "[encoded data removed]",
      "text/plain": [
       "<Figure size 432x288 with 1 Axes>"
      ]
     },
     "metadata": {
      "needs_background": "light"
     },
     "output_type": "display_data"
    }
   ],
   "source": [
    "cocoEvalDet.accumulate()"
   ]
  },
  {
   "cell_type": "code",
   "execution_count": 102,
   "metadata": {},
   "outputs": [
    {
     "ename": "AttributeError",
     "evalue": "'COCO' object has no attribute 'loadA'",
     "output_type": "error",
     "traceback": [
      "\u001b[0;31m---------------------------------------------------------------------------\u001b[0m",
      "\u001b[0;31mAttributeError\u001b[0m                            Traceback (most recent call last)",
      "\u001b[0;32m<ipython-input-102-2d568953509d>\u001b[0m in \u001b[0;36m<module>\u001b[0;34m\u001b[0m\n\u001b[0;32m----> 1\u001b[0;31m \u001b[0mcocoEvalDet\u001b[0m\u001b[0;34m.\u001b[0m\u001b[0mcocoDt\u001b[0m\u001b[0;34m.\u001b[0m\u001b[0mloadA\u001b[0m\u001b[0;34m(\u001b[0m\u001b[0mcatIds\u001b[0m\u001b[0;34m=\u001b[0m\u001b[0;36m1\u001b[0m\u001b[0;34m)\u001b[0m\u001b[0;34m\u001b[0m\u001b[0;34m\u001b[0m\u001b[0m\n\u001b[0m",
      "\u001b[0;31mAttributeError\u001b[0m: 'COCO' object has no attribute 'loadA'"
     ]
    }
   ],
   "source": [
    "cocoEvalDet.cocoDt.loadA(catIds=1)"
   ]
  },
  {
   "cell_type": "code",
   "execution_count": 162,
   "metadata": {},
   "outputs": [
    {
     "data": {
      "text/plain": [
       "'person'"
      ]
     },
     "execution_count": 162,
     "metadata": {},
     "output_type": "execute_result"
    }
   ],
   "source": [
    "cocoEvalDet.cats[1]['name']"
   ]
  },
  {
   "cell_type": "code",
   "execution_count": null,
   "metadata": {},
   "outputs": [],
   "source": []
  }
 ],
 "metadata": {
  "interpreter": {
   "hash": "31f2aee4e71d21fbe5cf8b01ff0e069b9275f58929596ceb00d14d90e3e16cd6"
  },
  "kernelspec": {
   "display_name": "Python 3.8.10 64-bit",
   "language": "python",
   "name": "python3"
  },
  "language_info": {
   "codemirror_mode": {
    "name": "ipython",
    "version": 3
   },
   "file_extension": ".py",
   "mimetype": "text/x-python",
   "name": "python",
   "nbconvert_exporter": "python",
   "pygments_lexer": "ipython3",
   "version": "3.8.10"
  },
  "orig_nbformat": 4
 },
 "nbformat": 4,
 "nbformat_minor": 2
}
