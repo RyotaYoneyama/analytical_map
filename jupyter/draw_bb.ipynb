{
 "cells": [
  {
   "cell_type": "code",
   "execution_count": 1,
   "metadata": {},
   "outputs": [],
   "source": [
    "from pycocotools.coco import COCO\n",
    "import cv2\n",
    "%matplotlib inline\n",
    "import matplotlib.pyplot as plt\n",
    "import os\n",
    "\n"
   ]
  },
  {
   "cell_type": "code",
   "execution_count": 8,
   "metadata": {},
   "outputs": [
    {
     "name": "stdout",
     "output_type": "stream",
     "text": [
      "loading annotations into memory...\n",
      "Done (t=0.00s)\n",
      "creating index...\n",
      "index created!\n",
      "Loading and preparing results...\n",
      "DONE (t=0.00s)\n",
      "creating index...\n",
      "index created!\n"
     ]
    }
   ],
   "source": [
    "path_to_coco_dir = \"/home/ryota/dl/tools/analytical_map/dog/coco/\"\n",
    "cocoGt = COCO( os.path.join(path_to_coco_dir, 'gt.json'))\n",
    "cocoInf = cocoGt.loadRes(os.path.join(path_to_coco_dir, 'dt.json'))\n",
    "img_dir = \"/home/ryota/dl/tools/analytical_map/dog/images\"\n",
    "out_dir = \"/home/ryota/dl/tools/analytical_map/dog/output\"\n",
    "\n",
    "if not os.path.exists(out_dir):\n",
    "    os.mkdir(out_dir)\n"
   ]
  },
  {
   "cell_type": "code",
   "execution_count": 11,
   "metadata": {},
   "outputs": [],
   "source": [
    "img_ids = cocoGt.getImgIds()\n",
    "for img_id in img_ids:\n",
    "    \n",
    "    img = cocoGt.loadImgs(ids=img_id)[0]\n",
    "\n",
    "    img_cv2 = cv2.imread(os.path.join(img_dir, img[\"file_name\"]))\n",
    "    annIds_gt = cocoGt.getAnnIds(imgIds=img['id'],  iscrowd=None)\n",
    "    annIds_inf = cocoInf.getAnnIds(imgIds=img['id'],  iscrowd=None)\n",
    "    \n",
    "    anns_gt = cocoGt.loadAnns(annIds_gt)\n",
    "    anns_inf = cocoInf.loadAnns(annIds_inf)\n",
    "    # for ann_gt in anns_gt:\n",
    "    #     x_min = int(ann_gt[\"bbox\"][0])\n",
    "    #     y_min = int(ann_gt[\"bbox\"][1])\n",
    "    #     x_max = int(ann_gt[\"bbox\"][0]) + int(ann_gt[\"bbox\"][2])\n",
    "    #     y_max = int(ann_gt[\"bbox\"][1]) + int(ann_gt[\"bbox\"][3])\n",
    "\n",
    "    #     cv2.rectangle(img_cv2, (x_min, y_min), (x_max, y_max), (0,0,255), thickness=2)\n",
    "    #     cv2.putText(img_cv2, str(ann_gt['id']),\n",
    "    #                 org=(x_min, y_min+10),\n",
    "    #         fontFace=cv2.FONT_HERSHEY_SIMPLEX,\n",
    "    #         fontScale=1.0,\n",
    "    #         color=(0, 255, 0),\n",
    "    #         thickness=2,\n",
    "    #         lineType=cv2.LINE_4)\n",
    "    for ann_inf in anns_inf:\n",
    "        x_min = int(ann_inf[\"bbox\"][0])\n",
    "        y_min = int(ann_inf[\"bbox\"][1])\n",
    "        x_max = int(ann_inf[\"bbox\"][0]) + int(ann_inf[\"bbox\"][2])\n",
    "        y_max = int(ann_inf[\"bbox\"][1]) + int(ann_inf[\"bbox\"][3])\n",
    "\n",
    "        cv2.rectangle(img_cv2, (x_min, y_min), (x_max, y_max), (255,0,0) )\n",
    "        cv2.putText(img_cv2,  str(ann_inf['id']),\n",
    "                    org=(x_min, y_min+10),\n",
    "            fontFace=cv2.FONT_HERSHEY_SIMPLEX,\n",
    "            fontScale=1.0,\n",
    "            color=(0, 255, 0),\n",
    "            thickness=2,\n",
    "            lineType=cv2.LINE_4)\n",
    "    \n",
    "    cv2.imwrite(os.path.join(out_dir, img[\"file_name\"]), img_cv2)\n",
    "\n",
    "\n",
    "\n",
    "\n"
   ]
  },
  {
   "cell_type": "code",
   "execution_count": 4,
   "metadata": {},
   "outputs": [
    {
     "data": {
      "text/plain": [
       "[1, 2, 3, 4, 5]"
      ]
     },
     "execution_count": 4,
     "metadata": {},
     "output_type": "execute_result"
    }
   ],
   "source": [
    "img_ids \n"
   ]
  },
  {
   "cell_type": "code",
   "execution_count": 17,
   "metadata": {},
   "outputs": [
    {
     "data": {
      "text/plain": [
       "[{'id': 5,\n",
       "  'image_id': 5,\n",
       "  'category_id': 1,\n",
       "  'segmentation': [],\n",
       "  'area': 18026.859500000002,\n",
       "  'bbox': [1.73, 45.41, 147.05, 122.59],\n",
       "  'iscrowd': 0,\n",
       "  'attributes': {'occluded': False, 'rotation': 0.0}},\n",
       " {'id': 6,\n",
       "  'image_id': 5,\n",
       "  'category_id': 1,\n",
       "  'segmentation': [],\n",
       "  'area': 10816.08,\n",
       "  'bbox': [187.8, 71.6, 112.2, 96.4],\n",
       "  'iscrowd': 0,\n",
       "  'attributes': {'occluded': False, 'rotation': 0.0}},\n",
       " {'id': 7,\n",
       "  'image_id': 5,\n",
       "  'category_id': 2,\n",
       "  'segmentation': [],\n",
       "  'area': 35660.531200000005,\n",
       "  'bbox': [84.32, 2.66, 215.68, 165.34],\n",
       "  'iscrowd': 0,\n",
       "  'attributes': {'occluded': False, 'rotation': 0.0}}]"
      ]
     },
     "execution_count": 17,
     "metadata": {},
     "output_type": "execute_result"
    }
   ],
   "source": [
    "anns_gt"
   ]
  },
  {
   "cell_type": "code",
   "execution_count": null,
   "metadata": {},
   "outputs": [],
   "source": []
  }
 ],
 "metadata": {
  "interpreter": {
   "hash": "31f2aee4e71d21fbe5cf8b01ff0e069b9275f58929596ceb00d14d90e3e16cd6"
  },
  "kernelspec": {
   "display_name": "Python 3.8.10 64-bit",
   "language": "python",
   "name": "python3"
  },
  "language_info": {
   "codemirror_mode": {
    "name": "ipython",
    "version": 3
   },
   "file_extension": ".py",
   "mimetype": "text/x-python",
   "name": "python",
   "nbconvert_exporter": "python",
   "pygments_lexer": "ipython3",
   "version": "3.8.10"
  },
  "orig_nbformat": 4
 },
 "nbformat": 4,
 "nbformat_minor": 2
}
